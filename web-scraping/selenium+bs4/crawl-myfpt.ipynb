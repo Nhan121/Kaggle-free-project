{
 "cells": [
  {
   "cell_type": "code",
   "execution_count": 1,
   "metadata": {},
   "outputs": [],
   "source": [
    "from bs4 import BeautifulSoup\n",
    "import requests, pandas as pd\n",
    "import urllib.request\n",
    "\n",
    "link_to_crawl = \"https://play.google.com/store/apps/details?id=vn.com.fsoft.myfsoft&hl=vi&gl=US\"\n",
    "res = requests.get(link_to_crawl)\n",
    "\n",
    "content = BeautifulSoup(res.content, \"html.parser\")"
   ]
  },
  {
   "cell_type": "code",
   "execution_count": 2,
   "metadata": {},
   "outputs": [
    {
     "data": {
      "text/plain": [
       "['Hoài Phong', 'Thuy Nguyen', 'Mình Quân Nguyễn']"
      ]
     },
     "execution_count": 2,
     "metadata": {},
     "output_type": "execute_result"
    }
   ],
   "source": [
    "user_divs = content.find_all(\"div\", {\"class\": \"X5PpBb\"})\n",
    "user_names = [div.text for div in user_divs]\n",
    "user_names"
   ]
  },
  {
   "cell_type": "code",
   "execution_count": 3,
   "metadata": {},
   "outputs": [
    {
     "data": {
      "text/plain": [
       "['Sao k viết đx @ vậy ạ', 'Ok', 'Ok']"
      ]
     },
     "execution_count": 3,
     "metadata": {},
     "output_type": "execute_result"
    }
   ],
   "source": [
    "cmt_divs = content.find_all(\"div\", {\"class\": \"h3YV2d\"})\n",
    "comments = [div.text for div in cmt_divs]\n",
    "comments"
   ]
  },
  {
   "cell_type": "markdown",
   "metadata": {},
   "source": [
    "Tuy nhiên, để đọc hết bài đánh giá này (vì có phần ẩn cần bấm vào showmore để hiển thị thêm) nên ta sẽ có 2 giải pháp!\n",
    "- Download toàn bộ trang nguồn html từ website, lưu về html rồi thực hiện ETL với dữ liệu loại html\n",
    "- Sử dụng selenium\n",
    "\n",
    "## 1. Hãy làm quen với html"
   ]
  },
  {
   "cell_type": "code",
   "execution_count": 4,
   "metadata": {},
   "outputs": [],
   "source": [
    "import codecs\n",
    "\n",
    "f = codecs.open('myFPT_GooglePlay.html', 'r', 'utf-8')\n",
    "full_content = BeautifulSoup(f.read())"
   ]
  },
  {
   "cell_type": "code",
   "execution_count": 5,
   "metadata": {},
   "outputs": [
    {
     "name": "stdout",
     "output_type": "stream",
     "text": [
      "First 5 user-names: \n",
      " ['Hoài Phong', 'Thuy Nguyen', 'Mình Quân Nguyễn', 'Hoài Phong', 'Thuy Nguyen'] \n",
      " Total rating-results: 560\n"
     ]
    }
   ],
   "source": [
    "user_divs = full_content.find_all(\"div\", {\"class\": \"X5PpBb\"})\n",
    "user_names = [div.text for div in user_divs]\n",
    "print(f\"First 5 user-names: \\n {user_names[:5]} \\n Total rating-results: {len(user_names)}\")"
   ]
  },
  {
   "cell_type": "code",
   "execution_count": 6,
   "metadata": {},
   "outputs": [
    {
     "name": "stdout",
     "output_type": "stream",
     "text": [
      "First 5 user-comments: \n",
      " ['Sao k viết đx @ vậy ạ', 'Ok', 'Ok', 'Sao k viết đx @ vậy ạ', 'Ok'] \n",
      " Total rating-results: 560\n"
     ]
    }
   ],
   "source": [
    "cmt_divs = full_content.find_all(\"div\", {\"class\": \"h3YV2d\"})\n",
    "comments = [div.text for div in cmt_divs]\n",
    "\n",
    "print(f\"First 5 user-comments: \\n {comments[:5]} \\n Total rating-results: {len(comments)}\")"
   ]
  },
  {
   "cell_type": "code",
   "execution_count": 7,
   "metadata": {},
   "outputs": [
    {
     "name": "stdout",
     "output_type": "stream",
     "text": [
      "First 5 rating results: \n",
      " ['Được xếp hạng 3 sao/5 sao', 'Được xếp hạng 5 sao/5 sao', 'Được xếp hạng 5 sao/5 sao', 'Được xếp hạng 3 sao/5 sao', 'Được xếp hạng 5 sao/5 sao'] \n",
      " Total rating-results: 560\n"
     ]
    }
   ],
   "source": [
    "rating_divs = full_content.find_all(\"div\", {\"class\": \"iXRFPc\", \"role\": \"img\"})\n",
    "rate_res = [div[\"aria-label\"] for div in rating_divs]\n",
    "\n",
    "print(f\"First 5 rating results: \\n {rate_res[:5]} \\n Total rating-results: {len(rate_res)}\")"
   ]
  },
  {
   "cell_type": "code",
   "execution_count": 8,
   "metadata": {},
   "outputs": [
    {
     "data": {
      "text/html": [
       "<div>\n",
       "<style scoped>\n",
       "    .dataframe tbody tr th:only-of-type {\n",
       "        vertical-align: middle;\n",
       "    }\n",
       "\n",
       "    .dataframe tbody tr th {\n",
       "        vertical-align: top;\n",
       "    }\n",
       "\n",
       "    .dataframe thead th {\n",
       "        text-align: right;\n",
       "    }\n",
       "</style>\n",
       "<table border=\"1\" class=\"dataframe\">\n",
       "  <thead>\n",
       "    <tr style=\"text-align: right;\">\n",
       "      <th></th>\n",
       "      <th>user_name</th>\n",
       "      <th>comments</th>\n",
       "      <th>ratings</th>\n",
       "    </tr>\n",
       "  </thead>\n",
       "  <tbody>\n",
       "    <tr>\n",
       "      <th>0</th>\n",
       "      <td>Hoài Phong</td>\n",
       "      <td>Sao k viết đx @ vậy ạ</td>\n",
       "      <td>Được xếp hạng 3 sao/5 sao</td>\n",
       "    </tr>\n",
       "    <tr>\n",
       "      <th>1</th>\n",
       "      <td>Thuy Nguyen</td>\n",
       "      <td>Ok</td>\n",
       "      <td>Được xếp hạng 5 sao/5 sao</td>\n",
       "    </tr>\n",
       "    <tr>\n",
       "      <th>2</th>\n",
       "      <td>Mình Quân Nguyễn</td>\n",
       "      <td>Ok</td>\n",
       "      <td>Được xếp hạng 5 sao/5 sao</td>\n",
       "    </tr>\n",
       "    <tr>\n",
       "      <th>3</th>\n",
       "      <td>Hoài Phong</td>\n",
       "      <td>Sao k viết đx @ vậy ạ</td>\n",
       "      <td>Được xếp hạng 3 sao/5 sao</td>\n",
       "    </tr>\n",
       "    <tr>\n",
       "      <th>4</th>\n",
       "      <td>Thuy Nguyen</td>\n",
       "      <td>Ok</td>\n",
       "      <td>Được xếp hạng 5 sao/5 sao</td>\n",
       "    </tr>\n",
       "  </tbody>\n",
       "</table>\n",
       "</div>"
      ],
      "text/plain": [
       "          user_name               comments                    ratings\n",
       "0        Hoài Phong  Sao k viết đx @ vậy ạ  Được xếp hạng 3 sao/5 sao\n",
       "1       Thuy Nguyen                     Ok  Được xếp hạng 5 sao/5 sao\n",
       "2  Mình Quân Nguyễn                     Ok  Được xếp hạng 5 sao/5 sao\n",
       "3        Hoài Phong  Sao k viết đx @ vậy ạ  Được xếp hạng 3 sao/5 sao\n",
       "4       Thuy Nguyen                     Ok  Được xếp hạng 5 sao/5 sao"
      ]
     },
     "execution_count": 8,
     "metadata": {},
     "output_type": "execute_result"
    }
   ],
   "source": [
    "crawl_df = pd.DataFrame({'user_name': user_names, 'comments': comments, 'ratings': rate_res})\n",
    "crawl_df.head()"
   ]
  },
  {
   "cell_type": "markdown",
   "metadata": {},
   "source": [
    "## 2. Using selenium"
   ]
  },
  {
   "cell_type": "code",
   "execution_count": 9,
   "metadata": {},
   "outputs": [],
   "source": [
    "from selenium import webdriver\n",
    "from selenium.webdriver.chrome.options import Options\n",
    "from selenium.webdriver.chrome.service import Service\n",
    "from webdriver_manager.chrome import ChromeDriverManager\n",
    "from selenium.webdriver.common.by import By\n",
    "from selenium.webdriver.common.keys import Keys\n",
    "\n",
    "options = Options()\n",
    "driver = webdriver.Chrome(service=Service(ChromeDriverManager().install()))"
   ]
  },
  {
   "cell_type": "code",
   "execution_count": 10,
   "metadata": {},
   "outputs": [],
   "source": [
    "driver.get(link_to_crawl)"
   ]
  },
  {
   "cell_type": "code",
   "execution_count": 11,
   "metadata": {},
   "outputs": [],
   "source": [
    "import warnings\n",
    "\n",
    "warnings.filterwarnings(\"ignore\")\n",
    "\n",
    "init_users = [x.text for x in driver.find_elements_by_class_name(\"X5PpBb\")]\n",
    "init_comments = [x.text for x in driver.find_elements_by_class_name(\"h3YV2d\")]"
   ]
  },
  {
   "cell_type": "code",
   "execution_count": 12,
   "metadata": {},
   "outputs": [
    {
     "name": "stdout",
     "output_type": "stream",
     "text": [
      "First 5 rating results: \n",
      " ['Được xếp hạng 3 sao/5 sao', 'Được xếp hạng 5 sao/5 sao', 'Được xếp hạng 5 sao/5 sao'] \n",
      " Total rating-results: 3\n"
     ]
    }
   ],
   "source": [
    "selen_init_content = BeautifulSoup(driver.page_source)\n",
    "rating_divs = selen_init_content.find_all(\"div\", {\"class\": \"iXRFPc\", \"role\": \"img\"})\n",
    "rate_res = [div[\"aria-label\"] for div in rating_divs]\n",
    "\n",
    "print(f\"First 5 rating results: \\n {rate_res[:5]} \\n Total rating-results: {len(rate_res)}\")"
   ]
  },
  {
   "cell_type": "markdown",
   "metadata": {},
   "source": [
    "Tuy nhiên, ta chỉ view được 3 đối tượng đầu tiên,"
   ]
  },
  {
   "cell_type": "code",
   "execution_count": 15,
   "metadata": {},
   "outputs": [],
   "source": [
    "button = '//*[@id=\"yDmH0d\"]/c-wiz[2]/div/div/div[1]/div[2]/div/div[1]/c-wiz[4]/section/div/div/div[5]/div/div/button/span'\n",
    "new_web_dri = driver.find_element(by=By.XPATH, value=button)\n",
    "new_web_dri.click()"
   ]
  },
  {
   "cell_type": "markdown",
   "metadata": {},
   "source": [
    "### Auto crawl"
   ]
  },
  {
   "cell_type": "code",
   "execution_count": 32,
   "metadata": {},
   "outputs": [
    {
     "name": "stdout",
     "output_type": "stream",
     "text": [
      "First 5 rating results: \n",
      " ['Được xếp hạng 3 sao/5 sao', 'Được xếp hạng 5 sao/5 sao', 'Được xếp hạng 5 sao/5 sao', 'Được xếp hạng 3 sao/5 sao', 'Được xếp hạng 5 sao/5 sao'] \n",
      " Total rating-results: 123\n"
     ]
    }
   ],
   "source": [
    "selen_init_content = BeautifulSoup(driver.page_source)\n",
    "rating_divs = selen_init_content.find_all(\"div\", {\"class\": \"iXRFPc\", \"role\": \"img\"})\n",
    "rate_res = [div[\"aria-label\"] for div in rating_divs]\n",
    "\n",
    "print(f\"First 5 rating results: \\n {rate_res[:5]} \\n Total rating-results: {len(rate_res)}\")"
   ]
  }
 ],
 "metadata": {
  "kernelspec": {
   "display_name": "Python 3.10.3 64-bit",
   "language": "python",
   "name": "python3"
  },
  "language_info": {
   "codemirror_mode": {
    "name": "ipython",
    "version": 3
   },
   "file_extension": ".py",
   "mimetype": "text/x-python",
   "name": "python",
   "nbconvert_exporter": "python",
   "pygments_lexer": "ipython3",
   "version": "3.10.3"
  },
  "orig_nbformat": 4,
  "vscode": {
   "interpreter": {
    "hash": "a9cff5a362bc38ef45d817ae74b1af54d6a076e3d773891282bce078b815ba34"
   }
  }
 },
 "nbformat": 4,
 "nbformat_minor": 2
}
