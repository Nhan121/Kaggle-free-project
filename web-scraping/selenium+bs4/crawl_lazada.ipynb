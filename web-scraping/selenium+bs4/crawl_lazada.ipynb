{
 "cells": [
  {
   "cell_type": "code",
   "execution_count": 1,
   "id": "a6470cc1",
   "metadata": {},
   "outputs": [],
   "source": [
    "# pip install webdriver_manager, selenium\n",
    "from selenium import webdriver\n",
    "from selenium.webdriver.chrome.options import Options\n",
    "from selenium.webdriver.chrome.service import Service\n",
    "from webdriver_manager.chrome import ChromeDriverManager\n",
    "from selenium.webdriver.common.by import By\n",
    "from selenium.webdriver.common.keys import Keys\n",
    "\n",
    "options = Options()\n",
    "driver = webdriver.Chrome(r\"C:\\Users\\Admin\\Downloads\\chromedriver_win32 (1)\\chromedriver.exe\")"
   ]
  },
  {
   "cell_type": "code",
   "execution_count": 2,
   "id": "796a6f40",
   "metadata": {},
   "outputs": [],
   "source": [
    "driver.get(\"https://pages.lazada.vn/#\")"
   ]
  },
  {
   "cell_type": "code",
   "execution_count": 3,
   "id": "0ae6124b",
   "metadata": {},
   "outputs": [],
   "source": [
    "for n_time in range(100):\n",
    "    driver.execute_script(\"window.scrollTo(0, 1080)\")"
   ]
  },
  {
   "cell_type": "markdown",
   "id": "1bd73265",
   "metadata": {},
   "source": [
    "#### 1. Crawl item names"
   ]
  },
  {
   "cell_type": "code",
   "execution_count": 4,
   "id": "977093b8",
   "metadata": {},
   "outputs": [
    {
     "data": {
      "text/plain": [
       "24"
      ]
     },
     "execution_count": 4,
     "metadata": {},
     "output_type": "execute_result"
    }
   ],
   "source": [
    "list_items = [x.text for x in driver.find_elements(By.CLASS_NAME, \"card-jfy-title\")]\n",
    "len(list_items)"
   ]
  },
  {
   "cell_type": "markdown",
   "id": "b18cfe1c",
   "metadata": {},
   "source": [
    "#### 2. Price"
   ]
  },
  {
   "cell_type": "code",
   "execution_count": 5,
   "id": "3eca2d32",
   "metadata": {},
   "outputs": [
    {
     "data": {
      "text/plain": [
       "24"
      ]
     },
     "execution_count": 5,
     "metadata": {},
     "output_type": "execute_result"
    }
   ],
   "source": [
    "list_prices = [x.text for x in driver.find_elements(By.CLASS_NAME, \"hp-mod-price\")]\n",
    "len(list_prices)"
   ]
  },
  {
   "cell_type": "code",
   "execution_count": 6,
   "id": "b3ca7a3c",
   "metadata": {},
   "outputs": [
    {
     "data": {
      "text/plain": [
       "24"
      ]
     },
     "execution_count": 6,
     "metadata": {},
     "output_type": "execute_result"
    }
   ],
   "source": [
    "n_sold = [x.text for x in driver.find_elements(By.CLASS_NAME, \"card-jfy-footer\")]\n",
    "len(n_sold)"
   ]
  },
  {
   "cell_type": "code",
   "execution_count": 7,
   "id": "936bae74",
   "metadata": {},
   "outputs": [
    {
     "data": {
      "text/plain": [
       "24"
      ]
     },
     "execution_count": 7,
     "metadata": {},
     "output_type": "execute_result"
    }
   ],
   "source": [
    "n_2pr = [x.text for x in driver.find_elements(By.CLASS_NAME, \"hp-mod-price-second-line\")]\n",
    "len(n_2pr)"
   ]
  },
  {
   "cell_type": "markdown",
   "id": "680fc196",
   "metadata": {},
   "source": [
    "#### Wraping up"
   ]
  },
  {
   "cell_type": "code",
   "execution_count": 8,
   "id": "f1bbc657",
   "metadata": {},
   "outputs": [
    {
     "data": {
      "text/html": [
       "<div>\n",
       "<style scoped>\n",
       "    .dataframe tbody tr th:only-of-type {\n",
       "        vertical-align: middle;\n",
       "    }\n",
       "\n",
       "    .dataframe tbody tr th {\n",
       "        vertical-align: top;\n",
       "    }\n",
       "\n",
       "    .dataframe thead th {\n",
       "        text-align: right;\n",
       "    }\n",
       "</style>\n",
       "<table border=\"1\" class=\"dataframe\">\n",
       "  <thead>\n",
       "    <tr style=\"text-align: right;\">\n",
       "      <th></th>\n",
       "      <th>items</th>\n",
       "      <th>price</th>\n",
       "      <th>n_sold</th>\n",
       "      <th>note</th>\n",
       "    </tr>\n",
       "  </thead>\n",
       "  <tbody>\n",
       "    <tr>\n",
       "      <th>0</th>\n",
       "      <td>[Trợ ship đến 70K + Voucher 10k] Thùng 24 lon ...</td>\n",
       "      <td>₫375,000\\n₫500,000\\n-25%</td>\n",
       "      <td>(840)\\nVietnam</td>\n",
       "      <td>₫500,000\\n-25%</td>\n",
       "    </tr>\n",
       "    <tr>\n",
       "      <th>1</th>\n",
       "      <td>Giày sục nam, chất liệu Eva siêu nhẹ, siêu bền...</td>\n",
       "      <td>₫72,500\\n₫125,000\\n-42%</td>\n",
       "      <td>(108)</td>\n",
       "      <td>₫125,000\\n-42%</td>\n",
       "    </tr>\n",
       "    <tr>\n",
       "      <th>2</th>\n",
       "      <td>Máy xay tỏi ớt đa năng, cối xay đa năng zodan ...</td>\n",
       "      <td>₫75,000\\n₫150,000\\n-50%</td>\n",
       "      <td>(510)</td>\n",
       "      <td>₫150,000\\n-50%</td>\n",
       "    </tr>\n",
       "    <tr>\n",
       "      <th>3</th>\n",
       "      <td>SACE LADY Chì kẻ mày dài Trang điểm mắt 0,33g</td>\n",
       "      <td>₫69,000\\n₫99,000\\n-30%</td>\n",
       "      <td>(504)\\nVietnam</td>\n",
       "      <td>₫99,000\\n-30%</td>\n",
       "    </tr>\n",
       "    <tr>\n",
       "      <th>4</th>\n",
       "      <td>Nước rửa mắt Eyebon bảo vệ giác mạc W Vita...</td>\n",
       "      <td>₫170,000\\n₫300,000\\n-43%</td>\n",
       "      <td>(472)</td>\n",
       "      <td>₫300,000\\n-43%</td>\n",
       "    </tr>\n",
       "    <tr>\n",
       "      <th>...</th>\n",
       "      <td>...</td>\n",
       "      <td>...</td>\n",
       "      <td>...</td>\n",
       "      <td>...</td>\n",
       "    </tr>\n",
       "    <tr>\n",
       "      <th>187</th>\n",
       "      <td>Thảm nhựa lưới chống trơn trượt khổ 0.9m - Lót...</td>\n",
       "      <td>₫29,000</td>\n",
       "      <td>(112)</td>\n",
       "      <td></td>\n",
       "    </tr>\n",
       "    <tr>\n",
       "      <th>188</th>\n",
       "      <td>[HCM]Hạt Chia Đen 500g Úc Black Bag Chia</td>\n",
       "      <td>₫48,900\\n₫95,000\\n-49%</td>\n",
       "      <td>(3407)</td>\n",
       "      <td>₫95,000\\n-49%</td>\n",
       "    </tr>\n",
       "    <tr>\n",
       "      <th>189</th>\n",
       "      <td>Máy uốn Tóc Xoăn tự động đường kính 28mm AKIOM...</td>\n",
       "      <td>₫265,000\\n₫450,000\\n-41%</td>\n",
       "      <td>(972)</td>\n",
       "      <td>₫450,000\\n-41%</td>\n",
       "    </tr>\n",
       "    <tr>\n",
       "      <th>190</th>\n",
       "      <td>Cà phê rang xay Trung Nguyên chữ S bịch 500gr ...</td>\n",
       "      <td>₫49,900\\n₫66,000\\n-24%</td>\n",
       "      <td>(36)</td>\n",
       "      <td>₫66,000\\n-24%</td>\n",
       "    </tr>\n",
       "    <tr>\n",
       "      <th>191</th>\n",
       "      <td>Ruột gối nằm bông hạt, loại sạch cho gia đình,...</td>\n",
       "      <td>₫40,000\\n₫80,000\\n-50%</td>\n",
       "      <td>(228)</td>\n",
       "      <td>₫80,000\\n-50%</td>\n",
       "    </tr>\n",
       "  </tbody>\n",
       "</table>\n",
       "<p>192 rows × 4 columns</p>\n",
       "</div>"
      ],
      "text/plain": [
       "                                                 items  \\\n",
       "0    [Trợ ship đến 70K + Voucher 10k] Thùng 24 lon ...   \n",
       "1    Giày sục nam, chất liệu Eva siêu nhẹ, siêu bền...   \n",
       "2    Máy xay tỏi ớt đa năng, cối xay đa năng zodan ...   \n",
       "3        SACE LADY Chì kẻ mày dài Trang điểm mắt 0,33g   \n",
       "4    Nước rửa mắt Eyebon bảo vệ giác mạc W Vita...   \n",
       "..                                                 ...   \n",
       "187  Thảm nhựa lưới chống trơn trượt khổ 0.9m - Lót...   \n",
       "188           [HCM]Hạt Chia Đen 500g Úc Black Bag Chia   \n",
       "189  Máy uốn Tóc Xoăn tự động đường kính 28mm AKIOM...   \n",
       "190  Cà phê rang xay Trung Nguyên chữ S bịch 500gr ...   \n",
       "191  Ruột gối nằm bông hạt, loại sạch cho gia đình,...   \n",
       "\n",
       "                        price          n_sold            note  \n",
       "0    ₫375,000\\n₫500,000\\n-25%  (840)\\nVietnam  ₫500,000\\n-25%  \n",
       "1     ₫72,500\\n₫125,000\\n-42%           (108)  ₫125,000\\n-42%  \n",
       "2     ₫75,000\\n₫150,000\\n-50%           (510)  ₫150,000\\n-50%  \n",
       "3      ₫69,000\\n₫99,000\\n-30%  (504)\\nVietnam   ₫99,000\\n-30%  \n",
       "4    ₫170,000\\n₫300,000\\n-43%           (472)  ₫300,000\\n-43%  \n",
       "..                        ...             ...             ...  \n",
       "187                   ₫29,000           (112)                  \n",
       "188    ₫48,900\\n₫95,000\\n-49%          (3407)   ₫95,000\\n-49%  \n",
       "189  ₫265,000\\n₫450,000\\n-41%           (972)  ₫450,000\\n-41%  \n",
       "190    ₫49,900\\n₫66,000\\n-24%            (36)   ₫66,000\\n-24%  \n",
       "191    ₫40,000\\n₫80,000\\n-50%           (228)   ₫80,000\\n-50%  \n",
       "\n",
       "[192 rows x 4 columns]"
      ]
     },
     "execution_count": 8,
     "metadata": {},
     "output_type": "execute_result"
    }
   ],
   "source": [
    "import time\n",
    "import pandas as pd\n",
    "from selenium.webdriver.support.ui import WebDriverWait\n",
    "from selenium.webdriver.support import expected_conditions as EC\n",
    "\n",
    "load_more_button = driver.find_element(By.XPATH, '//*[@id=\"hp-just-for-you\"]/div[2]/div[2]/a')\n",
    "\n",
    "for n_time in range(10):\n",
    "    driver.execute_script(\"window.scrollTo(0, 1080)\")\n",
    "    try:\n",
    "        WebDriverWait(driver, 2).until(EC.element_to_be_clickable((By.XPATH, '//*[@id=\"hp-just-for-you\"]/div[2]/div[2]/a'))).click()\n",
    "    except:\n",
    "        break\n",
    "\n",
    "list_items = [x.text for x in driver.find_elements(By.CLASS_NAME, \"card-jfy-title\")]\n",
    "list_prices = [x.text for x in driver.find_elements(By.CLASS_NAME, \"hp-mod-price\")]\n",
    "n_sold = [x.text for x in driver.find_elements(By.CLASS_NAME, \"card-jfy-footer\")]\n",
    "n_2pr = [x.text for x in driver.find_elements(By.CLASS_NAME, \"hp-mod-price-second-line\")]\n",
    "\n",
    "pd.DataFrame({'items': list_items, 'price': list_prices, 'n_sold': n_sold, 'note': n_2pr})"
   ]
  },
  {
   "cell_type": "code",
   "execution_count": null,
   "id": "351b222f",
   "metadata": {},
   "outputs": [],
   "source": [
    "df = pd.DataFrame({'items': list_items, 'price': list_prices, 'n_sold': n_sold, 'note': n_2pr})\n",
    "df.to_csv('lazada.csv', index=False)"
   ]
  }
 ],
 "metadata": {
  "kernelspec": {
   "display_name": "Python 3 (ipykernel)",
   "language": "python",
   "name": "python3"
  },
  "language_info": {
   "codemirror_mode": {
    "name": "ipython",
    "version": 3
   },
   "file_extension": ".py",
   "mimetype": "text/x-python",
   "name": "python",
   "nbconvert_exporter": "python",
   "pygments_lexer": "ipython3",
   "version": "3.7.9"
  }
 },
 "nbformat": 4,
 "nbformat_minor": 5
}
