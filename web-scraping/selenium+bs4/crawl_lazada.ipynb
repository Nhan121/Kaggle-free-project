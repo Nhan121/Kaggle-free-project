{
 "cells": [
  {
   "cell_type": "code",
   "execution_count": 1,
   "id": "a6470cc1",
   "metadata": {},
   "outputs": [],
   "source": [
    "# pip install webdriver_manager, selenium\n",
    "from selenium import webdriver\n",
    "from selenium.webdriver.chrome.options import Options\n",
    "from selenium.webdriver.chrome.service import Service\n",
    "from webdriver_manager.chrome import ChromeDriverManager\n",
    "from selenium.webdriver.common.by import By\n",
    "from selenium.webdriver.common.keys import Keys\n",
    "\n",
    "options = Options()\n",
    "driver = webdriver.Chrome(r\"C:\\Users\\Admin\\Downloads\\chromedriver_win32 (1)\\chromedriver.exe\")"
   ]
  },
  {
   "cell_type": "code",
   "execution_count": 2,
   "id": "796a6f40",
   "metadata": {},
   "outputs": [],
   "source": [
    "driver.get(\"https://pages.lazada.vn/#\")"
   ]
  },
  {
   "cell_type": "code",
   "execution_count": 3,
   "id": "d0584456",
   "metadata": {},
   "outputs": [],
   "source": [
    "for n_time in range(100):\n",
    "    driver.execute_script(\"window.scrollTo(0, 1080)\")"
   ]
  },
  {
   "cell_type": "markdown",
   "id": "0e503d9e",
   "metadata": {},
   "source": [
    "#### 1. Crawl item names"
   ]
  },
  {
   "cell_type": "code",
   "execution_count": 4,
   "id": "977093b8",
   "metadata": {},
   "outputs": [
    {
     "data": {
      "text/plain": [
       "24"
      ]
     },
     "execution_count": 4,
     "metadata": {},
     "output_type": "execute_result"
    }
   ],
   "source": [
    "list_items = [x.text for x in driver.find_elements(By.CLASS_NAME, \"card-jfy-title\")]\n",
    "len(list_items)"
   ]
  },
  {
   "cell_type": "markdown",
   "id": "fff247f5",
   "metadata": {},
   "source": [
    "#### 2. Price"
   ]
  },
  {
   "cell_type": "code",
   "execution_count": 5,
   "id": "3eca2d32",
   "metadata": {},
   "outputs": [
    {
     "data": {
      "text/plain": [
       "24"
      ]
     },
     "execution_count": 5,
     "metadata": {},
     "output_type": "execute_result"
    }
   ],
   "source": [
    "list_prices = [x.text for x in driver.find_elements(By.CLASS_NAME, \"hp-mod-price\")]\n",
    "len(list_prices)"
   ]
  },
  {
   "cell_type": "code",
   "execution_count": 6,
   "id": "b3ca7a3c",
   "metadata": {},
   "outputs": [
    {
     "data": {
      "text/plain": [
       "24"
      ]
     },
     "execution_count": 6,
     "metadata": {},
     "output_type": "execute_result"
    }
   ],
   "source": [
    "n_sold = [x.text for x in driver.find_elements(By.CLASS_NAME, \"card-jfy-footer\")]\n",
    "len(n_sold)"
   ]
  },
  {
   "cell_type": "code",
   "execution_count": 7,
   "id": "1ad5b104",
   "metadata": {},
   "outputs": [
    {
     "data": {
      "text/plain": [
       "24"
      ]
     },
     "execution_count": 7,
     "metadata": {},
     "output_type": "execute_result"
    }
   ],
   "source": [
    "n_2pr = [x.text for x in driver.find_elements(By.CLASS_NAME, \"hp-mod-price-second-line\")]\n",
    "len(n_2pr)"
   ]
  },
  {
   "cell_type": "markdown",
   "id": "41ab37fb",
   "metadata": {},
   "source": [
    "#### Wraping up"
   ]
  },
  {
   "cell_type": "code",
   "execution_count": null,
   "id": "b5df622e",
   "metadata": {},
   "outputs": [],
   "source": [
    "import time\n",
    "import pandas as pd\n",
    "from selenium.webdriver.support.ui import WebDriverWait\n",
    "from selenium.webdriver.support import expected_conditions as EC\n",
    "\n",
    "load_more_button = driver.find_element(By.XPATH, '//*[@id=\"hp-just-for-you\"]/div[2]/div[2]/a')\n",
    "\n",
    "for n_time in range(10):\n",
    "    driver.execute_script(\"window.scrollTo(0, 1080)\")\n",
    "    try:\n",
    "        WebDriverWait(driver, 2).until(EC.element_to_be_clickable((By.XPATH, '//*[@id=\"hp-just-for-you\"]/div[2]/div[2]/a'))).click()\n",
    "    except:\n",
    "        break\n",
    "\n",
    "list_items = [x.text for x in driver.find_elements(By.CLASS_NAME, \"card-jfy-title\")]\n",
    "list_prices = [x.text for x in driver.find_elements(By.CLASS_NAME, \"hp-mod-price\")]\n",
    "n_sold = [x.text for x in driver.find_elements(By.CLASS_NAME, \"card-jfy-footer\")]\n",
    "n_2pr = [x.text for x in driver.find_elements(By.CLASS_NAME, \"hp-mod-price-second-line\")]\n",
    "\n",
    "pd.DataFrame({'items': list_items, 'price': list_prices, 'n_sold': n_sold, 'note': n_2pr})"
   ]
  }
 ],
 "metadata": {
  "kernelspec": {
   "display_name": "Python 3 (ipykernel)",
   "language": "python",
   "name": "python3"
  },
  "language_info": {
   "codemirror_mode": {
    "name": "ipython",
    "version": 3
   },
   "file_extension": ".py",
   "mimetype": "text/x-python",
   "name": "python",
   "nbconvert_exporter": "python",
   "pygments_lexer": "ipython3",
   "version": "3.7.9"
  }
 },
 "nbformat": 4,
 "nbformat_minor": 5
}
